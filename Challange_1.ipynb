{
 "cells": [
  {
   "cell_type": "markdown",
   "id": "063d94ea",
   "metadata": {},
   "source": [
    "1. Try to extract data from index one to index 300 with a jump of 3\n",
    "\n",
    "s = \"this is My First Python programming class and i am learNING python string and its function\""
   ]
  },
  {
   "cell_type": "code",
   "execution_count": 2,
   "id": "4f26ed6e",
   "metadata": {},
   "outputs": [
    {
     "data": {
      "text/plain": [
       "'tssyityopgmncsa alrNph rgni ni'"
      ]
     },
     "execution_count": 2,
     "metadata": {},
     "output_type": "execute_result"
    }
   ],
   "source": [
    "s = \"this is My First Python programming class and i am learNING python string and its function\"\n",
    "s[0:300:3]"
   ]
  },
  {
   "cell_type": "markdown",
   "id": "816776f0",
   "metadata": {},
   "source": [
    "2. Try to reverse a string without using reverse function\n",
    "\n",
    "s = \"this is My First Python programming class and i am learNING python string and its function\""
   ]
  },
  {
   "cell_type": "code",
   "execution_count": 3,
   "id": "0dba91b0",
   "metadata": {},
   "outputs": [
    {
     "data": {
      "text/plain": [
       "'noitcnuf sti dna gnirts nohtyp GNINrael ma i dna ssalc gnimmargorp nohtyP tsriF yM si siht'"
      ]
     },
     "execution_count": 3,
     "metadata": {},
     "output_type": "execute_result"
    }
   ],
   "source": [
    "s = \"this is My First Python programming class and i am learNING python string and its function\"\n",
    "s[::-1]"
   ]
  },
  {
   "cell_type": "markdown",
   "id": "9eeb7afd",
   "metadata": {},
   "source": [
    "3. Try to split a string after conversion of entire string in uppercase \n",
    "\n",
    "s = \"this is My First Python programming class and i am learNING python string and its function\""
   ]
  },
  {
   "cell_type": "code",
   "execution_count": 6,
   "id": "dbe63269",
   "metadata": {},
   "outputs": [
    {
     "data": {
      "text/plain": [
       "'THIS IS MY FIRST PYTHON PROGRAMMING CLASS AND I AM LEARNING PYTHON STRING AND ITS FUNCTION'"
      ]
     },
     "execution_count": 6,
     "metadata": {},
     "output_type": "execute_result"
    }
   ],
   "source": [
    "s = \"this is My First Python programming class and i am learNING python string and its function\"\n",
    "s.upper()"
   ]
  },
  {
   "cell_type": "code",
   "execution_count": 7,
   "id": "6c10bac0",
   "metadata": {},
   "outputs": [
    {
     "data": {
      "text/plain": [
       "['this',\n",
       " 'is',\n",
       " 'My',\n",
       " 'First',\n",
       " 'Python',\n",
       " 'programming',\n",
       " 'class',\n",
       " 'and',\n",
       " 'i',\n",
       " 'am',\n",
       " 'learNING',\n",
       " 'python',\n",
       " 'string',\n",
       " 'and',\n",
       " 'its',\n",
       " 'function']"
      ]
     },
     "execution_count": 7,
     "metadata": {},
     "output_type": "execute_result"
    }
   ],
   "source": [
    "s.split(' ')"
   ]
  },
  {
   "cell_type": "markdown",
   "id": "fd7316c5",
   "metadata": {},
   "source": [
    "4. try to convert the whole string into lower case\n",
    "\n",
    "s = \"this is My First Python programming class and i am learNING python string and its function\""
   ]
  },
  {
   "cell_type": "code",
   "execution_count": 8,
   "id": "18c2f6d5",
   "metadata": {},
   "outputs": [
    {
     "data": {
      "text/plain": [
       "'this is my first python programming class and i am learning python string and its function'"
      ]
     },
     "execution_count": 8,
     "metadata": {},
     "output_type": "execute_result"
    }
   ],
   "source": [
    "s.lower()"
   ]
  },
  {
   "cell_type": "markdown",
   "id": "67e3c4d3",
   "metadata": {},
   "source": [
    "5. Try to capitalize the whole string\n",
    "\n",
    "s = \"this is My First Python programming class and i am learNING python string and its function\""
   ]
  },
  {
   "cell_type": "code",
   "execution_count": 9,
   "id": "051159b6",
   "metadata": {},
   "outputs": [
    {
     "data": {
      "text/plain": [
       "'This is my first python programming class and i am learning python string and its function'"
      ]
     },
     "execution_count": 9,
     "metadata": {},
     "output_type": "execute_result"
    }
   ],
   "source": [
    "s = \"this is My First Python programming class and i am learNING python string and its function\"\n",
    "s.capitalize()"
   ]
  },
  {
   "cell_type": "markdown",
   "id": "273dd0f1",
   "metadata": {},
   "source": [
    "6. Write a diference between isalnum() and isalpha()"
   ]
  },
  {
   "cell_type": "markdown",
   "id": "b3c313e1",
   "metadata": {},
   "source": [
    "The method isalnum() return true if string contain letters and numbers without symbols but isalpha() method returns true if \n",
    "string contains only letters.\n"
   ]
  },
  {
   "cell_type": "markdown",
   "id": "fd166058",
   "metadata": {},
   "source": [
    "7. Try to give an example of expand tab"
   ]
  },
  {
   "cell_type": "markdown",
   "id": "69b882e1",
   "metadata": {},
   "source": [
    "The Python string method expandtabs() returns a copy of the string in which '\\t' (tab character) in original string are \n",
    "expanded using spaces, optionally using the given tabsize (default value is 8)."
   ]
  },
  {
   "cell_type": "code",
   "execution_count": 14,
   "id": "49953bc5",
   "metadata": {},
   "outputs": [
    {
     "name": "stdout",
     "output_type": "stream",
     "text": [
      "W       o       r       l       d\n"
     ]
    }
   ],
   "source": [
    "a = 'W\\to\\tr\\tl\\td'\n",
    "b =  a.expandtabs()\n",
    "print(b)"
   ]
  },
  {
   "cell_type": "markdown",
   "id": "45f84440",
   "metadata": {},
   "source": [
    "8. Give an example of strip , lstrip and rstrip "
   ]
  },
  {
   "cell_type": "code",
   "execution_count": 17,
   "id": "2417e2da",
   "metadata": {},
   "outputs": [
    {
     "data": {
      "text/plain": [
       "'Gajanan    Wadgave'"
      ]
     },
     "execution_count": 17,
     "metadata": {},
     "output_type": "execute_result"
    }
   ],
   "source": [
    "a = '    Gajanan    Wadgave    '\n",
    "a.strip()"
   ]
  },
  {
   "cell_type": "code",
   "execution_count": 18,
   "id": "af760a5b",
   "metadata": {},
   "outputs": [
    {
     "data": {
      "text/plain": [
       "'Gajanan    Wadgave    '"
      ]
     },
     "execution_count": 18,
     "metadata": {},
     "output_type": "execute_result"
    }
   ],
   "source": [
    "a.lstrip()\n"
   ]
  },
  {
   "cell_type": "code",
   "execution_count": 19,
   "id": "0cc3dd19",
   "metadata": {},
   "outputs": [
    {
     "data": {
      "text/plain": [
       "'    Gajanan    Wadgave'"
      ]
     },
     "execution_count": 19,
     "metadata": {},
     "output_type": "execute_result"
    }
   ],
   "source": [
    "a.rstrip()"
   ]
  },
  {
   "cell_type": "markdown",
   "id": "4d8f4fed",
   "metadata": {},
   "source": [
    "9. Replace a string charecter by another charector by taking your own example "
   ]
  },
  {
   "cell_type": "code",
   "execution_count": 20,
   "id": "c92e3cc1",
   "metadata": {},
   "outputs": [],
   "source": [
    "g = 'My Won'"
   ]
  },
  {
   "cell_type": "code",
   "execution_count": 21,
   "id": "5a2a3cf1",
   "metadata": {},
   "outputs": [
    {
     "data": {
      "text/plain": [
       "'My Win'"
      ]
     },
     "execution_count": 21,
     "metadata": {},
     "output_type": "execute_result"
    }
   ],
   "source": [
    "g.replace('Won', 'Win')\n"
   ]
  },
  {
   "cell_type": "markdown",
   "id": "61b17f82",
   "metadata": {},
   "source": [
    "10. Try  to give a defination of string center function with and exmple "
   ]
  },
  {
   "cell_type": "markdown",
   "id": "57a6d08b",
   "metadata": {},
   "source": [
    "The Python method called centre() returns a string with centre align and a specified character or space is used as padding."
   ]
  },
  {
   "cell_type": "code",
   "execution_count": 25,
   "id": "2b6dbf77",
   "metadata": {},
   "outputs": [
    {
     "data": {
      "text/plain": [
       "'------------Gajanan Wadgave-------------'"
      ]
     },
     "execution_count": 25,
     "metadata": {},
     "output_type": "execute_result"
    }
   ],
   "source": [
    "str = \"Gajanan Wadgave\"\n",
    "str.center(40, '-')"
   ]
  },
  {
   "cell_type": "markdown",
   "id": "684eb770",
   "metadata": {},
   "source": [
    "11. Write your own definition of compiler and interpretor without copy paste form internet in your own language"
   ]
  },
  {
   "cell_type": "markdown",
   "id": "9a03f752",
   "metadata": {},
   "source": [
    "Compiler : A compiler is a software basically a system software which converts code in one programming language to another.\n",
    "Compiler converts human readable code into machine readable code ( into binary code of 0's and 1's ). This traditional way of \n",
    "execution code. \n",
    "\n",
    "Interpreter : Interpreter is programme that executes instructions without converting high level language instructions into machine readable code. Interpreters take each line of the program and convert to machine code and execute it.Interpreter traInterpreter translate high level code into intermedite executable code."
   ]
  },
  {
   "cell_type": "markdown",
   "id": "2ea5805f",
   "metadata": {},
   "source": [
    "12. Python is a interpreted of compiled language,give a clear ans with your understanding."
   ]
  },
  {
   "cell_type": "markdown",
   "id": "efe9df55",
   "metadata": {},
   "source": [
    "Python is a interpreted language because, Python first checks syntax of code, it then compiles and convert it into byte code.\n",
    "This bytecode is directly loaded into system memory. This compiled code in system memory is directly interpreted from memory to \n",
    "execute it. While in Compiled programming languages like C, programme is converted to machine code (byte code) which is saved\n",
    "as executable."
   ]
  },
  {
   "cell_type": "markdown",
   "id": "4847a7e6",
   "metadata": {},
   "source": [
    "13. Try to write a usecase of python with your understanding ."
   ]
  },
  {
   "cell_type": "markdown",
   "id": "1ea407d4",
   "metadata": {},
   "source": [
    "Python is an amazing programming language and there are lot of use case of Python which are as below :\n",
    "\n",
    "    1. Data Analysis\n",
    "    \n",
    "    2. Web Development\n",
    "    \n",
    "    3. Machine Learning\n",
    "    \n",
    "    4. Software Testing\n",
    "    \n",
    "    5. Internet of Things\n",
    "    "
   ]
  },
  {
   "cell_type": "code",
   "execution_count": null,
   "id": "72f00af0",
   "metadata": {},
   "outputs": [],
   "source": []
  }
 ],
 "metadata": {
  "kernelspec": {
   "display_name": "Python 3 (ipykernel)",
   "language": "python",
   "name": "python3"
  },
  "language_info": {
   "codemirror_mode": {
    "name": "ipython",
    "version": 3
   },
   "file_extension": ".py",
   "mimetype": "text/x-python",
   "name": "python",
   "nbconvert_exporter": "python",
   "pygments_lexer": "ipython3",
   "version": "3.9.7"
  }
 },
 "nbformat": 4,
 "nbformat_minor": 5
}
